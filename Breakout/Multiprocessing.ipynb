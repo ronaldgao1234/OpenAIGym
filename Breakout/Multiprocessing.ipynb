{
 "cells": [
  {
   "cell_type": "code",
   "execution_count": 1,
   "metadata": {},
   "outputs": [],
   "source": [
    "import multiprocessing\n",
    "import multiprocessing.connection"
   ]
  },
  {
   "cell_type": "code",
   "execution_count": 2,
   "metadata": {},
   "outputs": [],
   "source": [
    "# def worker_process(remote: multiprocessing.connection.Connection, seed: int):\n",
    "#     game = Game(seed)\n",
    "#     while True:\n",
    "#         cmd, data = remote.recv()\n",
    "#         if cmd == \"step\":\n",
    "#             remote.send(game.step(data)) # send back results from a step\n",
    "#         elif cmd == \"reset\":\n",
    "#             remote.send(game.reset())\n",
    "#         elif cmd == \"close\":\n",
    "#             remote.close()\n",
    "#             break\n",
    "#         else:\n",
    "#             raise NotImplementedError\n",
    "\n",
    "def worker_process(remote: multiprocessing.connection.Connection, seed: int):\n",
    "    while True:\n",
    "        cmd,data = remote.recv()\n",
    "        if cmd == 'reset':\n",
    "            print('got reset!')\n",
    "            remote.send('Resetted!')\n",
    "        elif cmd == 'close':\n",
    "            remote.close()\n",
    "            break\n",
    "        else:\n",
    "            raise NotImplementedError\n",
    "\n",
    "class Worker:\n",
    "    child: multiprocessing.connection.Connection\n",
    "    process: multiprocessing.Process\n",
    "\n",
    "    def __init__(self, seed):\n",
    "        self.child, parent = multiprocessing.Pipe()\n",
    "        self.process = multiprocessing.Process(target=worker_process, args=(parent, seed))\n",
    "        self.process.start()"
   ]
  },
  {
   "cell_type": "code",
   "execution_count": 3,
   "metadata": {},
   "outputs": [],
   "source": [
    "class Main():\n",
    "    def __init__(self):\n",
    "        self.workers = [Worker(42) for _ in range(8)]\n",
    "        self.obs = list()\n",
    "        for worker in self.workers:\n",
    "            worker.child.send((\"reset\", None))\n",
    "        for i, worker in enumerate(self.workers):\n",
    "            self.obs.append(worker.child.recv())\n",
    "    def p(self):\n",
    "        print(self.obs)"
   ]
  },
  {
   "cell_type": "code",
   "execution_count": null,
   "metadata": {},
   "outputs": [],
   "source": [
    "    m = Main()\n",
    "    m.p()"
   ]
  },
  {
   "cell_type": "code",
   "execution_count": null,
   "metadata": {},
   "outputs": [],
   "source": []
  }
 ],
 "metadata": {
  "kernelspec": {
   "display_name": "Python 3",
   "language": "python",
   "name": "python3"
  },
  "language_info": {
   "codemirror_mode": {
    "name": "ipython",
    "version": 3
   },
   "file_extension": ".py",
   "mimetype": "text/x-python",
   "name": "python",
   "nbconvert_exporter": "python",
   "pygments_lexer": "ipython3",
   "version": "3.6.9"
  }
 },
 "nbformat": 4,
 "nbformat_minor": 4
}
