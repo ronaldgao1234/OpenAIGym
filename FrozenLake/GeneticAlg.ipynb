{
 "cells": [
  {
   "cell_type": "markdown",
   "metadata": {},
   "source": [
    "Based off a post : https://becominghuman.ai/genetic-algorithm-for-reinforcement-learning-a38a5612c4dc\n",
    "\n",
    "This is my intro to GA's"
   ]
  },
  {
   "cell_type": "code",
   "execution_count": 1,
   "metadata": {},
   "outputs": [],
   "source": [
    "import numpy as np\n",
    "import random\n",
    "import time\n",
    "import gym\n",
    "from gym import wrappers"
   ]
  },
  {
   "cell_type": "code",
   "execution_count": 3,
   "metadata": {},
   "outputs": [],
   "source": [
    "def gen_random_policy():\n",
    "    return np.random.choice(4, size=((16)))\n",
    "\n",
    "def run_episode(env, policy, episode_len=100):\n",
    "    total_reward = 0\n",
    "    obs = env.reset()\n",
    "    for t in range(episode_len):\n",
    "        # env.render()\n",
    "        action = policy[obs]\n",
    "        obs, reward, done, _ = env.step(action)\n",
    "        total_reward += reward\n",
    "        if done:\n",
    "            # print('Epside finished after {} timesteps.'.format(t+1))\n",
    "            break\n",
    "    return total_reward\n",
    "\n",
    "\n",
    "def evaluate_policy(env, policy, n_episodes=100):\n",
    "    total_rewards = 0.0\n",
    "    for _ in range(n_episodes):\n",
    "        total_rewards += run_episode(env, policy)\n",
    "    return total_rewards / n_episodes"
   ]
  },
  {
   "cell_type": "code",
   "execution_count": 4,
   "metadata": {},
   "outputs": [],
   "source": [
    "def crossover(policy1, policy2):\n",
    "    new_policy = policy1.copy()\n",
    "    for i in range(16):\n",
    "        rand = np.random.uniform()\n",
    "        if rand > 0.5:\n",
    "            new_policy[i] = policy2[i]\n",
    "    return new_policy"
   ]
  },
  {
   "cell_type": "code",
   "execution_count": 5,
   "metadata": {},
   "outputs": [],
   "source": [
    "def mutation(policy, p=0.05):\n",
    "    new_policy = policy.copy()\n",
    "    for i in range(16):\n",
    "        rand = np.random.uniform()\n",
    "        if rand < p:\n",
    "            new_policy[i] = np.random.choice(4)\n",
    "    return new_policy"
   ]
  },
  {
   "cell_type": "code",
   "execution_count": 8,
   "metadata": {},
   "outputs": [
    {
     "name": "stdout",
     "output_type": "stream",
     "text": [
      "Generation 1 : max score = 0.20\n",
      "Generation 2 : max score = 0.30\n",
      "Generation 3 : max score = 0.60\n",
      "Generation 4 : max score = 0.66\n",
      "Generation 5 : max score = 0.79\n",
      "Generation 6 : max score = 0.84\n",
      "Generation 7 : max score = 0.80\n",
      "Generation 8 : max score = 0.78\n",
      "Generation 9 : max score = 0.79\n",
      "Generation 10 : max score = 0.80\n",
      "Generation 11 : max score = 0.80\n",
      "Generation 12 : max score = 0.80\n",
      "Generation 13 : max score = 0.82\n",
      "Generation 14 : max score = 0.80\n",
      "Generation 15 : max score = 0.86\n",
      "Generation 16 : max score = 0.81\n",
      "Generation 17 : max score = 0.81\n",
      "Generation 18 : max score = 0.78\n",
      "Generation 19 : max score = 0.84\n",
      "Generation 20 : max score = 0.79\n",
      "Best policy score = 0.85\n"
     ]
    }
   ],
   "source": [
    "random.seed(1234)\n",
    "np.random.seed(1234)\n",
    "env = gym.make('FrozenLake-v0')\n",
    "env.seed(0)\n",
    "\n",
    "# generate random solutions\n",
    "n_policy = 100\n",
    "n_gens = 20\n",
    "\n",
    "policy_pop = [gen_random_policy() for _ in range(n_policy)]\n",
    "for idx in range(n_gens):\n",
    "    policy_scores = [evaluate_policy(env, p) for p in policy_pop]\n",
    "    print('Generation %d : max score = %0.2f' %(idx+1, max(policy_scores)))\n",
    "    \n",
    "    policy_ranks = list(reversed(np.argsort(policy_scores)))\n",
    "    elite_set = [policy_pop[x] for x in policy_ranks[:5]]\n",
    "    select_probs = np.array(policy_scores) / np.sum(policy_scores)\n",
    "    child_set = [crossover(\n",
    "        policy_pop[np.random.choice(range(n_policy), p=select_probs)], \n",
    "        policy_pop[np.random.choice(range(n_policy), p=select_probs)])\n",
    "        for _ in range(n_policy - 5)]\n",
    "    mutated_list = [mutation(p) for p in child_set]\n",
    "    policy_pop = elite_set\n",
    "    policy_pop += mutated_list\n",
    "policy_score = [evaluate_policy(env, p) for p in policy_pop]\n",
    "best_policy = policy_pop[np.argmax(policy_score)]\n",
    "print('Best policy score = %0.2f'\n",
    "            %(np.max(policy_score)))   \n",
    "env.close()"
   ]
  },
  {
   "cell_type": "code",
   "execution_count": null,
   "metadata": {},
   "outputs": [],
   "source": []
  }
 ],
 "metadata": {
  "kernelspec": {
   "display_name": "Python 3",
   "language": "python",
   "name": "python3"
  },
  "language_info": {
   "codemirror_mode": {
    "name": "ipython",
    "version": 3
   },
   "file_extension": ".py",
   "mimetype": "text/x-python",
   "name": "python",
   "nbconvert_exporter": "python",
   "pygments_lexer": "ipython3",
   "version": "3.6.9"
  }
 },
 "nbformat": 4,
 "nbformat_minor": 4
}
